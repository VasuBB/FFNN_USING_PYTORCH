{
 "cells": [
  {
   "cell_type": "code",
   "execution_count": 30,
   "metadata": {},
   "outputs": [],
   "source": [
    "import torch\n",
    "import torch.nn as nn\n",
    "import numpy as np\n",
    "from torch.utils.data import Dataset, DataLoader"
   ]
  },
  {
   "cell_type": "code",
   "execution_count": 31,
   "metadata": {},
   "outputs": [],
   "source": [
    "if torch.cuda.is_available():\n",
    "    device=torch.device(type=\"cuda\",index=0)\n",
    "else:\n",
    "    device=torch.device(type=\"cpu\",index=0)"
   ]
  },
  {
   "cell_type": "code",
   "execution_count": 32,
   "metadata": {},
   "outputs": [],
   "source": [
    "class WineDataset(Dataset):\n",
    "    def __init__(self, transform=None):\n",
    "        xy = np.loadtxt('winequality-red.csv', delimiter=\",\", dtype=np.float32, skiprows=1)\n",
    "        self.x = xy[:, 1:]  # All features (inputs)\n",
    "        self.y = xy[:, 0].astype(np.int64)  # Targets (wine quality), convert to int64\n",
    "        # Convert wine quality to class indices (5 -> 0, 6 -> 1, 7 -> 2)\n",
    "        self.y = np.where((self.y >= 5) & (self.y <= 7), self.y - 5, 2)  # Map 5-7 to 0-2, others to 2\n",
    "        self.n_samples = xy.shape[0]\n",
    "        self.transform = transform\n",
    "\n",
    "    def __getitem__(self, index):\n",
    "        x_sample, y_sample = self.x[index], self.y[index]\n",
    "        if self.transform:\n",
    "            x_sample, y_sample = self.transform((x_sample, y_sample))\n",
    "        return x_sample, y_sample\n",
    "\n",
    "    def __len__(self):\n",
    "        return self.n_samples"
   ]
  },
  {
   "cell_type": "code",
   "execution_count": 33,
   "metadata": {},
   "outputs": [],
   "source": [
    "class ToTensor:\n",
    "    def __call__(self, sample):\n",
    "        inputs, targets = sample\n",
    "        return torch.tensor(inputs, dtype=torch.float32), torch.tensor(targets, dtype=torch.long)"
   ]
  },
  {
   "cell_type": "code",
   "execution_count": 34,
   "metadata": {},
   "outputs": [],
   "source": [
    "dataset = WineDataset(transform=ToTensor())\n",
    "train_size = int(0.8 * len(dataset))\n",
    "test_size = len(dataset) - train_size\n",
    "train_dataset, test_dataset = torch.utils.data.random_split(dataset, [train_size, test_size])\n",
    "\n",
    "train_loader = DataLoader(dataset=train_dataset, batch_size=32, shuffle=True)\n",
    "test_loader = DataLoader(dataset=test_dataset, batch_size=32, shuffle=False)"
   ]
  },
  {
   "cell_type": "code",
   "execution_count": 35,
   "metadata": {},
   "outputs": [],
   "source": [
    "class FFNN(nn.Module):\n",
    "    def __init__(self):\n",
    "        super().__init__()\n",
    "        self.inp=nn.Linear(in_features=11,out_features=16)\n",
    "        self.relu=nn.ReLU()\n",
    "        self.bn1=nn.BatchNorm1d(num_features=16)\n",
    "        self.h1=nn.Linear(in_features=16,out_features=16)\n",
    "        self.bn2=nn.BatchNorm1d(num_features=16)\n",
    "        self.h2=nn.Linear(in_features=16,out_features=3)\n",
    "        self.bn3=nn.BatchNorm1d(num_features=3)\n",
    "        \n",
    "\n",
    "    def forward(self,x):\n",
    "        x=self.inp(x)\n",
    "        x=self.bn1(x) #16\n",
    "        x=self.relu(x)\n",
    "        x=self.h1(x)  \n",
    "        x=self.bn2(x) #16\n",
    "        x=self.relu(x)\n",
    "        x=self.h2(x)\n",
    "        output=self.bn3(x) # 3\n",
    "        return output\n"
   ]
  },
  {
   "cell_type": "code",
   "execution_count": 36,
   "metadata": {},
   "outputs": [],
   "source": [
    "model = FFNN().to(device)\n",
    "loss_fn = nn.CrossEntropyLoss()\n",
    "optimizer = torch.optim.Adam(model.parameters(), lr=0.001)"
   ]
  },
  {
   "cell_type": "code",
   "execution_count": 37,
   "metadata": {},
   "outputs": [],
   "source": [
    "def train_epoch(dataloader, model, loss_fn, optimizer):\n",
    "    model.train()\n",
    "    total_loss = 0\n",
    "    for i, (inputs, labels) in enumerate(dataloader):\n",
    "        inputs, labels = inputs.to(device), labels.to(device)\n",
    "        \n",
    "        optimizer.zero_grad()\n",
    "        outputs = model(inputs)\n",
    "        loss = loss_fn(outputs, labels)\n",
    "        loss.backward()\n",
    "        optimizer.step()\n",
    "        \n",
    "        total_loss += loss.item()\n",
    "        \n",
    "    return total_loss / len(dataloader)"
   ]
  },
  {
   "cell_type": "code",
   "execution_count": 38,
   "metadata": {},
   "outputs": [],
   "source": [
    "def evaluate_model(model, data_loader, device):\n",
    "    model.eval()\n",
    "    correct = 0\n",
    "    total = 0\n",
    "    with torch.no_grad():\n",
    "        for inputs, labels in data_loader:\n",
    "            inputs, labels = inputs.to(device), labels.to(device)\n",
    "            outputs = model(inputs)\n",
    "            _, predicted = torch.max(outputs.data, 1)\n",
    "            total += labels.size(0)\n",
    "            correct += (predicted == labels).sum().item()\n",
    "    \n",
    "    accuracy = 100 * correct / total\n",
    "    return accuracy\n"
   ]
  },
  {
   "cell_type": "code",
   "execution_count": 39,
   "metadata": {},
   "outputs": [
    {
     "name": "stdout",
     "output_type": "stream",
     "text": [
      "Epoch 1/100, Loss: 1.3100\n",
      "Epoch 2/100, Loss: 1.0448\n",
      "Epoch 3/100, Loss: 0.9872\n",
      "Epoch 4/100, Loss: 0.9371\n",
      "Epoch 5/100, Loss: 0.9046\n",
      "Epoch 6/100, Loss: 0.8734\n",
      "Epoch 7/100, Loss: 0.8327\n",
      "Epoch 8/100, Loss: 0.7879\n",
      "Epoch 9/100, Loss: 0.7532\n",
      "Epoch 10/100, Loss: 0.7206\n",
      "Epoch 11/100, Loss: 0.6969\n",
      "Epoch 12/100, Loss: 0.6678\n",
      "Epoch 13/100, Loss: 0.6508\n",
      "Epoch 14/100, Loss: 0.6424\n",
      "Epoch 15/100, Loss: 0.6266\n",
      "Epoch 16/100, Loss: 0.6157\n",
      "Epoch 17/100, Loss: 0.5790\n",
      "Epoch 18/100, Loss: 0.5632\n",
      "Epoch 19/100, Loss: 0.5486\n",
      "Epoch 20/100, Loss: 0.5430\n",
      "Epoch 21/100, Loss: 0.5340\n",
      "Epoch 22/100, Loss: 0.5351\n",
      "Epoch 23/100, Loss: 0.5251\n",
      "Epoch 24/100, Loss: 0.5242\n",
      "Epoch 25/100, Loss: 0.5147\n",
      "Epoch 26/100, Loss: 0.5105\n",
      "Epoch 27/100, Loss: 0.4970\n",
      "Epoch 28/100, Loss: 0.4948\n",
      "Epoch 29/100, Loss: 0.4788\n",
      "Epoch 30/100, Loss: 0.4814\n",
      "Epoch 31/100, Loss: 0.4675\n",
      "Epoch 32/100, Loss: 0.4781\n",
      "Epoch 33/100, Loss: 0.4620\n",
      "Epoch 34/100, Loss: 0.4494\n",
      "Epoch 35/100, Loss: 0.4571\n",
      "Epoch 36/100, Loss: 0.4503\n",
      "Epoch 37/100, Loss: 0.4372\n",
      "Epoch 38/100, Loss: 0.4375\n",
      "Epoch 39/100, Loss: 0.4408\n",
      "Epoch 40/100, Loss: 0.4275\n",
      "Epoch 41/100, Loss: 0.4267\n",
      "Epoch 42/100, Loss: 0.4323\n",
      "Epoch 43/100, Loss: 0.4156\n",
      "Epoch 44/100, Loss: 0.4070\n",
      "Epoch 45/100, Loss: 0.4158\n",
      "Epoch 46/100, Loss: 0.4109\n",
      "Epoch 47/100, Loss: 0.4132\n",
      "Epoch 48/100, Loss: 0.4171\n",
      "Epoch 49/100, Loss: 0.3967\n",
      "Epoch 50/100, Loss: 0.4030\n",
      "Epoch 51/100, Loss: 0.4021\n",
      "Epoch 52/100, Loss: 0.3996\n",
      "Epoch 53/100, Loss: 0.4078\n",
      "Epoch 54/100, Loss: 0.3901\n",
      "Epoch 55/100, Loss: 0.3868\n",
      "Epoch 56/100, Loss: 0.3900\n",
      "Epoch 57/100, Loss: 0.3923\n",
      "Epoch 58/100, Loss: 0.3824\n",
      "Epoch 59/100, Loss: 0.3918\n",
      "Epoch 60/100, Loss: 0.3870\n",
      "Epoch 61/100, Loss: 0.3859\n",
      "Epoch 62/100, Loss: 0.3763\n",
      "Epoch 63/100, Loss: 0.3829\n",
      "Epoch 64/100, Loss: 0.3720\n",
      "Epoch 65/100, Loss: 0.3859\n",
      "Epoch 66/100, Loss: 0.3770\n",
      "Epoch 67/100, Loss: 0.3698\n",
      "Epoch 68/100, Loss: 0.3691\n",
      "Epoch 69/100, Loss: 0.3721\n",
      "Epoch 70/100, Loss: 0.3769\n",
      "Epoch 71/100, Loss: 0.3612\n",
      "Epoch 72/100, Loss: 0.3712\n",
      "Epoch 73/100, Loss: 0.3519\n",
      "Epoch 74/100, Loss: 0.3675\n",
      "Epoch 75/100, Loss: 0.3564\n",
      "Epoch 76/100, Loss: 0.3699\n",
      "Epoch 77/100, Loss: 0.3654\n",
      "Epoch 78/100, Loss: 0.3665\n",
      "Epoch 79/100, Loss: 0.3656\n",
      "Epoch 80/100, Loss: 0.3633\n",
      "Epoch 81/100, Loss: 0.3511\n",
      "Epoch 82/100, Loss: 0.3433\n",
      "Epoch 83/100, Loss: 0.3618\n",
      "Epoch 84/100, Loss: 0.3580\n",
      "Epoch 85/100, Loss: 0.3604\n",
      "Epoch 86/100, Loss: 0.3606\n",
      "Epoch 87/100, Loss: 0.3529\n",
      "Epoch 88/100, Loss: 0.3426\n",
      "Epoch 89/100, Loss: 0.3678\n",
      "Epoch 90/100, Loss: 0.3527\n",
      "Epoch 91/100, Loss: 0.3487\n",
      "Epoch 92/100, Loss: 0.3448\n",
      "Epoch 93/100, Loss: 0.3407\n",
      "Epoch 94/100, Loss: 0.3597\n",
      "Epoch 95/100, Loss: 0.3483\n",
      "Epoch 96/100, Loss: 0.3374\n",
      "Epoch 97/100, Loss: 0.3446\n",
      "Epoch 98/100, Loss: 0.3451\n",
      "Epoch 99/100, Loss: 0.3453\n",
      "Epoch 100/100, Loss: 0.3365\n"
     ]
    }
   ],
   "source": [
    "n_epochs = 100\n",
    "for epoch in range(n_epochs):\n",
    "    loss = train_epoch(train_loader, model, loss_fn, optimizer)\n",
    "    print(f\"Epoch {epoch+1}/{n_epochs}, Loss: {loss:.4f}\")"
   ]
  },
  {
   "cell_type": "code",
   "execution_count": 40,
   "metadata": {},
   "outputs": [
    {
     "name": "stdout",
     "output_type": "stream",
     "text": [
      "Accuracy on test set: 85.00%\n",
      "Accuracy on training set: 87.18%\n"
     ]
    }
   ],
   "source": [
    "test_accuracy = evaluate_model(model, test_loader, device)\n",
    "print(f\"Accuracy on test set: {test_accuracy:.2f}%\")\n",
    "\n",
    "# You can also use this function to evaluate on the training set if needed\n",
    "train_accuracy = evaluate_model(model, train_loader, device)\n",
    "print(f\"Accuracy on training set: {train_accuracy:.2f}%\")"
   ]
  }
 ],
 "metadata": {
  "kernelspec": {
   "display_name": "Python 3",
   "language": "python",
   "name": "python3"
  },
  "language_info": {
   "codemirror_mode": {
    "name": "ipython",
    "version": 3
   },
   "file_extension": ".py",
   "mimetype": "text/x-python",
   "name": "python",
   "nbconvert_exporter": "python",
   "pygments_lexer": "ipython3",
   "version": "3.12.3"
  }
 },
 "nbformat": 4,
 "nbformat_minor": 2
}
